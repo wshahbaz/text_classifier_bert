{
  "nbformat": 4,
  "nbformat_minor": 0,
  "metadata": {
    "colab": {
      "name": "text_classification.ipynb",
      "provenance": []
    },
    "kernelspec": {
      "name": "python3",
      "display_name": "Python 3"
    },
    "language_info": {
      "name": "python"
    },
    "accelerator": "GPU"
  },
  "cells": [
    {
      "cell_type": "markdown",
      "metadata": {
        "id": "_5PH1WlIUspq"
      },
      "source": [
        "# Text Classification using BERT\n",
        "\n",
        "We will build a model to perform sentiment analysis on a dataset of IMBD movie reviews.\n",
        "\n",
        "We will need to preprocess the text appropriately, followed by building our model by combining BERT with a classifier, followed by training the model and fine-tuning BERT as a part of that.\n",
        "\n"
      ]
    },
    {
      "cell_type": "markdown",
      "metadata": {
        "id": "Bw1mK4v_VpyA"
      },
      "source": [
        "### BERT\n",
        "\n",
        "BERT computes vector-space representations of natural language suitable for deep learning models. BERT models use the Transformer encoder architecture to process each token of input text in full context of the tokens. before and after."
      ]
    },
    {
      "cell_type": "markdown",
      "metadata": {
        "id": "3ibpwptwWJwy"
      },
      "source": [
        "### Setup"
      ]
    },
    {
      "cell_type": "code",
      "metadata": {
        "colab": {
          "base_uri": "https://localhost:8080/",
          "height": 0
        },
        "id": "VazrvuptWK6M",
        "outputId": "3a3aeea7-d3fc-43dc-d5bb-4146a9083e0f"
      },
      "source": [
        "!pip install -q -U tensorflow-text\n",
        "!pip install -q tf-models-official"
      ],
      "execution_count": 1,
      "outputs": [
        {
          "output_type": "stream",
          "name": "stdout",
          "text": [
            "\u001b[K     |████████████████████████████████| 4.4 MB 13.2 MB/s \n",
            "\u001b[K     |████████████████████████████████| 1.8 MB 11.0 MB/s \n",
            "\u001b[K     |████████████████████████████████| 211 kB 44.7 MB/s \n",
            "\u001b[K     |████████████████████████████████| 90 kB 9.5 MB/s \n",
            "\u001b[K     |████████████████████████████████| 43 kB 1.9 MB/s \n",
            "\u001b[K     |████████████████████████████████| 636 kB 42.7 MB/s \n",
            "\u001b[K     |████████████████████████████████| 37.1 MB 49 kB/s \n",
            "\u001b[K     |████████████████████████████████| 1.1 MB 52.5 MB/s \n",
            "\u001b[K     |████████████████████████████████| 352 kB 35.6 MB/s \n",
            "\u001b[K     |████████████████████████████████| 99 kB 10.1 MB/s \n",
            "\u001b[K     |████████████████████████████████| 1.2 MB 39.6 MB/s \n",
            "\u001b[?25h  Building wheel for py-cpuinfo (setup.py) ... \u001b[?25l\u001b[?25hdone\n",
            "  Building wheel for seqeval (setup.py) ... \u001b[?25l\u001b[?25hdone\n"
          ]
        }
      ]
    },
    {
      "cell_type": "code",
      "metadata": {
        "id": "Ss6SSctYWRUf"
      },
      "source": [
        "import os\n",
        "import shutil\n",
        "\n",
        "import tensorflow as tf\n",
        "import tensorflow_hub as hub\n",
        "import tensorflow_text as text\n",
        "from official.nlp import optimization  # to create AdamW optimizer\n",
        "\n",
        "import matplotlib.pyplot as plt\n",
        "\n",
        "tf.get_logger().setLevel('ERROR')"
      ],
      "execution_count": 2,
      "outputs": []
    },
    {
      "cell_type": "markdown",
      "metadata": {
        "id": "jVWoTz50WbPs"
      },
      "source": [
        "### Sentiment Analysis\n",
        "\n",
        "Our model will classify movie reviews as either *positive* or *negative*"
      ]
    },
    {
      "cell_type": "markdown",
      "metadata": {
        "id": "okZ9t0uVWmaq"
      },
      "source": [
        "### Dataset\n",
        "\n",
        "We use the [Large Movie Review Dataset](https://ai.stanford.edu/~amaas/data/sentiment/)"
      ]
    },
    {
      "cell_type": "code",
      "metadata": {
        "colab": {
          "base_uri": "https://localhost:8080/",
          "height": 0
        },
        "id": "hcnFkzpRWxuk",
        "outputId": "4c1bb82c-e1e6-400c-b2a1-faa9511329f4"
      },
      "source": [
        "url = 'https://ai.stanford.edu/~amaas/data/sentiment/aclImdb_v1.tar.gz'\n",
        "\n",
        "dataset = tf.keras.utils.get_file('aclImdb_v1.tar.gz', url,\n",
        "                                  untar=True, cache_dir='.',\n",
        "                                  cache_subdir='')\n",
        "\n",
        "dataset_dir = os.path.join(os.path.dirname(dataset), 'aclImdb')\n",
        "\n",
        "train_dir = os.path.join(dataset_dir, 'train')\n",
        "\n",
        "# remove unused folders to make it easier to load the data\n",
        "remove_dir = os.path.join(train_dir, 'unsup')\n",
        "shutil.rmtree(remove_dir)"
      ],
      "execution_count": 3,
      "outputs": [
        {
          "output_type": "stream",
          "name": "stdout",
          "text": [
            "Downloading data from https://ai.stanford.edu/~amaas/data/sentiment/aclImdb_v1.tar.gz\n",
            "84131840/84125825 [==============================] - 6s 0us/step\n",
            "84140032/84125825 [==============================] - 6s 0us/step\n"
          ]
        }
      ]
    },
    {
      "cell_type": "markdown",
      "metadata": {
        "id": "XVlbR7uuXwcV"
      },
      "source": [
        "Create dataset; imdb dataset already contains training and testing set, so only need to create validation set:"
      ]
    },
    {
      "cell_type": "code",
      "metadata": {
        "colab": {
          "base_uri": "https://localhost:8080/",
          "height": 0
        },
        "id": "Dh2_FX-wX0cw",
        "outputId": "09831bbd-f6eb-4bbd-f0ff-c7d8049edd25"
      },
      "source": [
        "AUTOTUNE = tf.data.AUTOTUNE\n",
        "batch_size = 32\n",
        "seed = 123\n",
        "\n",
        "raw_train_ds = tf.keras.preprocessing.text_dataset_from_directory(\n",
        "    'aclImdb/train',\n",
        "    batch_size=batch_size,\n",
        "    validation_split=0.2,\n",
        "    subset='training',\n",
        "    seed=seed)\n",
        "\n",
        "class_names = raw_train_ds.class_names\n",
        "train_ds = raw_train_ds.cache().prefetch(buffer_size=AUTOTUNE)\n",
        "\n",
        "val_ds = tf.keras.preprocessing.text_dataset_from_directory(\n",
        "    'aclImdb/train',\n",
        "    batch_size=batch_size,\n",
        "    validation_split=0.2,\n",
        "    subset='validation',\n",
        "    seed=seed)\n",
        "\n",
        "val_ds = val_ds.cache().prefetch(buffer_size=AUTOTUNE)\n",
        "\n",
        "test_ds = tf.keras.preprocessing.text_dataset_from_directory(\n",
        "    'aclImdb/test',\n",
        "    batch_size=batch_size)\n",
        "\n",
        "test_ds = test_ds.cache().prefetch(buffer_size=AUTOTUNE)"
      ],
      "execution_count": 4,
      "outputs": [
        {
          "output_type": "stream",
          "name": "stdout",
          "text": [
            "Found 25000 files belonging to 2 classes.\n",
            "Using 20000 files for training.\n",
            "Found 25000 files belonging to 2 classes.\n",
            "Using 5000 files for validation.\n",
            "Found 25000 files belonging to 2 classes.\n"
          ]
        }
      ]
    },
    {
      "cell_type": "markdown",
      "metadata": {
        "id": "jPWnxUGNZnmI"
      },
      "source": [
        "### BERT model selection\n",
        "\n",
        "There are many BERT models to select from with varying sizes, pre-trained weights and objectives. For computation efficiency, we choose to use [Small BERTs](https://tfhub.dev/google/collections/bert/1).\n",
        "\n",
        "#### Preprocessing BERT\n",
        "We need to transform the text inputs to numeric token ids and arrange them in several tensors before inputting them into BERT. We will load the preprocessing model into a [hub.KerasLayer](https://www.tensorflow.org/hub/api_docs/python/hub/KerasLayer) to compose our fine-tuned model.\n"
      ]
    },
    {
      "cell_type": "code",
      "metadata": {
        "id": "6ZCV1Kf2aOfL"
      },
      "source": [
        "bert_model_name = 'small_bert/bert_en_uncased_L-4_H-512_A-8'\n",
        "tfhub_handle_encoder = 'https://tfhub.dev/tensorflow/small_bert/bert_en_uncased_L-4_H-512_A-8/1'\n",
        "tfhub_handle_preprocess = 'https://tfhub.dev/tensorflow/bert_en_uncased_preprocess/3'\n",
        "\n",
        "bert_preprocess_model = hub.KerasLayer(tfhub_handle_preprocess)"
      ],
      "execution_count": 6,
      "outputs": []
    },
    {
      "cell_type": "markdown",
      "metadata": {
        "id": "YXUrJJF5sLG0"
      },
      "source": [
        "After the preprocessed model processes a text corpus, along with the keys it contains the outputs`input_words_id, input_mask, input_type_ids` which the BERT model would use."
      ]
    },
    {
      "cell_type": "markdown",
      "metadata": {
        "id": "cfFqusgQs8Mt"
      },
      "source": [
        "#### Using BERT"
      ]
    },
    {
      "cell_type": "code",
      "metadata": {
        "id": "bYrXjF2mr8Qp"
      },
      "source": [
        "bert_model = hub.KerasLayer(tfhub_handle_encoder)"
      ],
      "execution_count": 8,
      "outputs": []
    },
    {
      "cell_type": "markdown",
      "metadata": {
        "id": "lI5URSGPtA0d"
      },
      "source": [
        "After feeding the BERT model the output from the `bert_preprocess_model`, the BERT model returns a map with keys `pooled_output, sequence_output, encoder_output`:\n",
        "- `pooled_output` is a `[batch_size, H]` tensor representing each input sequence as a whole, similar to an embedding for the entire movie review.\n",
        "- `sequence_output` is a `[batch_size, seq_length, H]` tensor representing each input token in the context, similar to a contextual embedding for every token in the movie review.\n",
        "- `encoder_outputs` are the intermediate activations of the `L` Transformer blocks. `outputs[\"encoder_outputs\"][i]` is a `[batch_size, seq_length, 1024]` tensor with the outputs of the i-th Transformer block, for `0 <= i < L`. The last value of the list is equal to `sequence_output`.\n",
        "\n",
        "For the fine-tuning we use the `pooled_output` array."
      ]
    },
    {
      "cell_type": "markdown",
      "metadata": {
        "id": "Qwp0MZB5u1X6"
      },
      "source": [
        "### Model Definition\n",
        "\n",
        "Our model will consist of the preprocessing model, the small BERT model, followed by a Dropout and Dense layer for classification."
      ]
    },
    {
      "cell_type": "code",
      "metadata": {
        "id": "Nh2jbK9VvPKw"
      },
      "source": [
        "def build_classifier_model():\n",
        "  text_input = tf.keras.layers.Input(shape=(), dtype=tf.string, name='text')\n",
        "  preprocessing_layer = hub.KerasLayer(tfhub_handle_preprocess, name='preprocessing')\n",
        "  encoder_inputs = preprocessing_layer(text_input)\n",
        "  encoder = hub.KerasLayer(tfhub_handle_encoder, trainable=True, name='BERT_encoder')\n",
        "  outputs = encoder(encoder_inputs)\n",
        "  net = outputs['pooled_output']\n",
        "  net = tf.keras.layers.Dropout(0.1)(net)\n",
        "  net = tf.keras.layers.Dense(1, activation=None, name='classifier')(net)\n",
        "  return tf.keras.Model(text_input, net)"
      ],
      "execution_count": 10,
      "outputs": []
    },
    {
      "cell_type": "markdown",
      "metadata": {
        "id": "H-kWBmcuv2VN"
      },
      "source": [
        "### Model Training\n",
        "\n",
        "#### Loss function\n",
        "We use `BinaryCrossentroy` since this is a binary classification problem\n"
      ]
    },
    {
      "cell_type": "code",
      "metadata": {
        "id": "7w90Kt79wCQi"
      },
      "source": [
        "loss = tf.keras.losses.BinaryCrossentropy(from_logits=True)\n",
        "metrics = tf.metrics.BinaryAccuracy()"
      ],
      "execution_count": 13,
      "outputs": []
    },
    {
      "cell_type": "markdown",
      "metadata": {
        "id": "we0rEhplwFT-"
      },
      "source": [
        "#### Optimizer\n",
        "\n",
        "We use the same optimizer that BERT is trained with in the [BERT paper](https://arxiv.org/abs/1810.04805), a varient of Adam that incorporates weight decay, [AdamW](https://arxiv.org/abs/1711.05101)\n",
        "\n",
        "For the learning rate (`init_lr`), we use the same schedule as BERT pre-training: linear decay of a notional initial learning rate, prefixed with a linear warm-up phase over the first 10% of training steps (`num_warmup_steps`). In line with the BERT paper, the initial learning rate is smaller for fine-tuning (best of 5e-5, 3e-5, 2e-5)."
      ]
    },
    {
      "cell_type": "code",
      "metadata": {
        "id": "9H-YM5bGxK89"
      },
      "source": [
        "epochs = 5\n",
        "steps_per_epoch = tf.data.experimental.cardinality(train_ds).numpy()\n",
        "num_train_steps = steps_per_epoch * epochs\n",
        "num_warmup_steps = int(0.1*num_train_steps)\n",
        "\n",
        "init_lr = 3e-5\n",
        "optimizer = optimization.create_optimizer(init_lr=init_lr,\n",
        "                                          num_train_steps=num_train_steps,\n",
        "                                          num_warmup_steps=num_warmup_steps,\n",
        "                                          optimizer_type='adamw')"
      ],
      "execution_count": 14,
      "outputs": []
    },
    {
      "cell_type": "markdown",
      "metadata": {
        "id": "ORsz1eG-xYQ8"
      },
      "source": [
        "Compile Model and Train:"
      ]
    },
    {
      "cell_type": "code",
      "metadata": {
        "colab": {
          "base_uri": "https://localhost:8080/"
        },
        "id": "945nlXiSxZ7y",
        "outputId": "99c851ea-d089-47a6-b139-19c2cb77fe26"
      },
      "source": [
        "classifier_model.compile(optimizer=optimizer,\n",
        "                         loss=loss,\n",
        "                         metrics=metrics)\n",
        "\n",
        "history = classifier_model.fit(x=train_ds,\n",
        "                               validation_data=val_ds,\n",
        "                               epochs=epochs)"
      ],
      "execution_count": 15,
      "outputs": [
        {
          "output_type": "stream",
          "name": "stdout",
          "text": [
            "Epoch 1/5\n",
            "625/625 [==============================] - 301s 472ms/step - loss: 0.5000 - binary_accuracy: 0.7326 - val_loss: 0.4091 - val_binary_accuracy: 0.7966\n",
            "Epoch 2/5\n",
            "625/625 [==============================] - 289s 462ms/step - loss: 0.3335 - binary_accuracy: 0.8515 - val_loss: 0.3611 - val_binary_accuracy: 0.8338\n",
            "Epoch 3/5\n",
            "625/625 [==============================] - 290s 464ms/step - loss: 0.2564 - binary_accuracy: 0.8913 - val_loss: 0.4181 - val_binary_accuracy: 0.8302\n",
            "Epoch 4/5\n",
            "625/625 [==============================] - 290s 464ms/step - loss: 0.1925 - binary_accuracy: 0.9226 - val_loss: 0.4426 - val_binary_accuracy: 0.8488\n",
            "Epoch 5/5\n",
            "625/625 [==============================] - 288s 461ms/step - loss: 0.1578 - binary_accuracy: 0.9401 - val_loss: 0.4479 - val_binary_accuracy: 0.8542\n"
          ]
        }
      ]
    },
    {
      "cell_type": "markdown",
      "metadata": {
        "id": "3XOh4faJxl-f"
      },
      "source": [
        "### Model Evaluation\n"
      ]
    },
    {
      "cell_type": "markdown",
      "metadata": {
        "id": "otp1VLUzyB4K"
      },
      "source": [
        "Performance on test set:"
      ]
    },
    {
      "cell_type": "code",
      "metadata": {
        "colab": {
          "base_uri": "https://localhost:8080/"
        },
        "id": "Ck7wlXC8x_j-",
        "outputId": "a049ab9b-b1ea-4a28-8989-83509092cfce"
      },
      "source": [
        "loss, accuracy = classifier_model.evaluate(test_ds)\n",
        "\n",
        "print(f'Loss: {loss}')\n",
        "print(f'Accuracy: {accuracy}')"
      ],
      "execution_count": 16,
      "outputs": [
        {
          "output_type": "stream",
          "name": "stdout",
          "text": [
            "782/782 [==============================] - 148s 189ms/step - loss: 0.4529 - binary_accuracy: 0.8562\n",
            "Loss: 0.45285657048225403\n",
            "Accuracy: 0.8561599850654602\n"
          ]
        }
      ]
    },
    {
      "cell_type": "markdown",
      "metadata": {
        "id": "rVGCDUvNyEjp"
      },
      "source": [
        "Model performance during training:"
      ]
    },
    {
      "cell_type": "code",
      "metadata": {
        "colab": {
          "base_uri": "https://localhost:8080/",
          "height": 808
        },
        "id": "SNw3SaRhyIu9",
        "outputId": "7f37e9a1-d848-42e8-dc64-3d946bf620bc"
      },
      "source": [
        "history_dict = history.history\n",
        "print(history_dict.keys())\n",
        "\n",
        "acc = history_dict['binary_accuracy']\n",
        "val_acc = history_dict['val_binary_accuracy']\n",
        "loss = history_dict['loss']\n",
        "val_loss = history_dict['val_loss']\n",
        "\n",
        "epochs = range(1, len(acc) + 1)\n",
        "fig = plt.figure(figsize=(10, 6))\n",
        "\n",
        "plt.plot(epochs, loss, 'r', label='Training loss')\n",
        "plt.plot(epochs, val_loss, 'b', label='Validation loss')\n",
        "plt.title('Training and validation loss')\n",
        "plt.xlabel('Epochs')\n",
        "plt.ylabel('Loss')\n",
        "plt.legend()\n",
        "plt.show()\n",
        "\n",
        "fig = plt.figure(figsize=(10, 6))\n",
        "plt.plot(epochs, acc, 'r', label='Training acc')\n",
        "plt.plot(epochs, val_acc, 'b', label='Validation acc')\n",
        "plt.title('Training and validation accuracy')\n",
        "plt.xlabel('Epochs')\n",
        "plt.ylabel('Accuracy')\n",
        "plt.legend(loc='lower right')\n",
        "plt.show()"
      ],
      "execution_count": 26,
      "outputs": [
        {
          "output_type": "stream",
          "name": "stdout",
          "text": [
            "dict_keys(['loss', 'binary_accuracy', 'val_loss', 'val_binary_accuracy'])\n"
          ]
        },
        {
          "output_type": "display_data",
          "data": {
            "image/png": "[encoded data removed]",
            "text/plain": [
              "<Figure size 720x432 with 1 Axes>"
            ]
          },
          "metadata": {
            "needs_background": "light"
          }
        },
        {
          "output_type": "display_data",
          "data": {
            "image/png": "[encoded data removed]",
            "text/plain": [
              "<Figure size 720x432 with 1 Axes>"
            ]
          },
          "metadata": {
            "needs_background": "light"
          }
        }
      ]
    }
  ]
}